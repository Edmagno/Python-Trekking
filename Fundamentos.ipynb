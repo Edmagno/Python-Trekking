{
 "cells": [
  {
   "cell_type": "markdown",
   "id": "60cb9810",
   "metadata": {},
   "source": [
    "### O primeiro aprendizado em uma linguagem de programação é o conceito de variável. Podemos pensar em variável como uma caixa onde guardamos informações, ou objetos.\n",
    "\n",
    "### Esta caixa tem uma vantagem e uma desvantagem. A desvantagem é que ela só comporta um objeto por vez. A vantagem é que podemos trocar o objeto que está dentro da caixa por outro objeto.\n",
    "\n",
    "### Vamos acompanhar o exemplo abaixo"
   ]
  },
  {
   "cell_type": "code",
   "execution_count": 2,
   "id": "e34251fb",
   "metadata": {},
   "outputs": [
    {
     "name": "stdout",
     "output_type": "stream",
     "text": [
      "O objeto dentro da caixa é: 2\n",
      "O objeto dentro da caixa é: 3\n"
     ]
    }
   ],
   "source": [
    "Caixa = 2\n",
    "\n",
    "print(f'O objeto dentro da caixa é: {Caixa}')\n",
    "\n",
    "Caixa = 3\n",
    "\n",
    "print(f'O objeto dentro da caixa é: {Caixa}')"
   ]
  },
  {
   "cell_type": "code",
   "execution_count": null,
   "id": "6e62a672",
   "metadata": {},
   "outputs": [],
   "source": []
  }
 ],
 "metadata": {
  "kernelspec": {
   "display_name": "Python 3 (ipykernel)",
   "language": "python",
   "name": "python3"
  },
  "language_info": {
   "codemirror_mode": {
    "name": "ipython",
    "version": 3
   },
   "file_extension": ".py",
   "mimetype": "text/x-python",
   "name": "python",
   "nbconvert_exporter": "python",
   "pygments_lexer": "ipython3",
   "version": "3.9.12"
  }
 },
 "nbformat": 4,
 "nbformat_minor": 5
}
