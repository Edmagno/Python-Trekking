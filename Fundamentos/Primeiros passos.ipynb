{
 "cells": [
  {
   "cell_type": "markdown",
   "id": "698fb165",
   "metadata": {},
   "source": [
    "### Podemos iniciar os estudos em programação fazendo cálculos básicos como o cálculo de soma, conforme o exemplo abaixo:"
   ]
  },
  {
   "cell_type": "code",
   "execution_count": 10,
   "id": "4a4279a0",
   "metadata": {},
   "outputs": [
    {
     "data": {
      "text/plain": [
       "5"
      ]
     },
     "execution_count": 10,
     "metadata": {},
     "output_type": "execute_result"
    }
   ],
   "source": [
    "2 + 3 "
   ]
  },
  {
   "cell_type": "markdown",
   "id": "5266be49",
   "metadata": {},
   "source": [
    "### Percebemos que o python possui de forma nativa, operações matemáticas básicas. No mundo da computação, muitas vezes é interessante guardar o objeto com que estamos lidando, neste caso números, em algum lugar, para se tornar mais fácil a manipulação entre eles.\n",
    "### Vamos supor que temos dois números e queremos guardar estes números em duas caixas diferentes. Nas linguagens de programação, o conceito responsável por guardar essa informação chama-se variável. Vamos supor que definimos duas váriaveis, para armazenar dois números e fazer a soma entre eles.\n",
    "### Vamos acompanhar o exemplo abaixo"
   ]
  },
  {
   "cell_type": "code",
   "execution_count": 11,
   "id": "6ade830b",
   "metadata": {},
   "outputs": [],
   "source": [
    "caixa_1 = 2\n",
    "\n",
    "caixa_2 = 3"
   ]
  },
  {
   "cell_type": "markdown",
   "id": "3c45869f",
   "metadata": {},
   "source": [
    "### Perceba que definimos a variável 1 com o nome de caixa 1 e a variável 2 com o nome de caixa 2, dessa forma, guardamos o número 2 na caixa 1 e o número 3 na caixa 2. Agora se quisermos fazer uma conta, basta sinalizar o nome da variável, neste caso, caixa_1 ou caixa_2 e realizar a operação desejada. Por exemplo:"
   ]
  },
  {
   "cell_type": "code",
   "execution_count": 12,
   "id": "4a187b51",
   "metadata": {},
   "outputs": [
    {
     "data": {
      "text/plain": [
       "5"
      ]
     },
     "execution_count": 12,
     "metadata": {},
     "output_type": "execute_result"
    }
   ],
   "source": [
    "caixa_1 + caixa_2"
   ]
  },
  {
   "cell_type": "code",
   "execution_count": null,
   "id": "d089f684",
   "metadata": {},
   "outputs": [],
   "source": []
  }
 ],
 "metadata": {
  "kernelspec": {
   "display_name": "Python 3 (ipykernel)",
   "language": "python",
   "name": "python3"
  },
  "language_info": {
   "codemirror_mode": {
    "name": "ipython",
    "version": 3
   },
   "file_extension": ".py",
   "mimetype": "text/x-python",
   "name": "python",
   "nbconvert_exporter": "python",
   "pygments_lexer": "ipython3",
   "version": "3.9.12"
  }
 },
 "nbformat": 4,
 "nbformat_minor": 5
}
