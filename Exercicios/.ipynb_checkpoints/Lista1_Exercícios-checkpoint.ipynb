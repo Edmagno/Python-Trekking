{
 "cells": [
  {
   "cell_type": "markdown",
   "id": "c9ca54c1",
   "metadata": {},
   "source": [
    "## Lista de Exercícios\n",
    "\n",
    "Os exercícios a seguir devem ser desenvolvidos e entregue as soluções através do Class. Utilize apenas o conteúdo visto em aula para resolver os exercícios!"
   ]
  },
  {
   "cell_type": "markdown",
   "id": "d32ef043",
   "metadata": {},
   "source": [
    "__1)__ Crie um código que receba o __nome do aluno__, o ano de nascimento, o dia de hoje e a cidade onde mora. E o programa deve retornar o nome, a __idade__ em 2022, quantos dias faltam para o Natal (25), quantos dias que faltam para a véspera de ano novo (31) e a cidade."
   ]
  },
  {
   "cell_type": "code",
   "execution_count": null,
   "id": "47ca1add",
   "metadata": {},
   "outputs": [],
   "source": [
    "nome = input(\"Digite o nome do aluno: \")\n",
    "ano = int(input(\"Digite o ano de nascimento do aluno: \"))\n",
    "dia_atual = int(input(\"Digite o dia atual: \"))\n",
    "cidade = input(\"Digite a cidade onde o aluno mora: \")\n",
    "\n",
    "natal = 25 - dia_atual\n",
    "idade = 2022 - ano\n",
    "\n",
    "print(f'Nome do aluno : {nome}')\n",
    "print(f'Idade em 2022 : {idade}')\n",
    "print(f'Faltam {natal} dias para o natal')\n",
    "print(f'Cidade do aluno: {cidade}')"
   ]
  },
  {
   "cell_type": "markdown",
   "id": "cdbc52b6",
   "metadata": {},
   "source": [
    "__2)__ Crie um código onde irá receber do usuário a nota de 5 provas realizadas (as notas variam entre 0 e 10 podendo ser um número decimal) e retorne o valor da média nas provas."
   ]
  },
  {
   "cell_type": "code",
   "execution_count": 5,
   "id": "2dd50871",
   "metadata": {},
   "outputs": [
    {
     "name": "stdout",
     "output_type": "stream",
     "text": [
      "Digite a nota da prova 1: 5\n",
      "Digite a nota da prova 2: 6.5\n",
      "Digite a nota da prova 3: 7\n",
      "Digite a nota da prova 4: 10\n",
      "Digite a nota da prova 5: 0.5\n",
      "A média das notas é 5.8\n"
     ]
    }
   ],
   "source": [
    "nota1 = float(input(\"Digite a nota da prova 1: \"))\n",
    "nota2 = float(input(\"Digite a nota da prova 2: \"))\n",
    "nota3 = float(input(\"Digite a nota da prova 3: \"))\n",
    "nota4 = float(input(\"Digite a nota da prova 4: \"))\n",
    "nota5 = float(input(\"Digite a nota da prova 5: \"))\n",
    "\n",
    "media = (nota1 + nota2 + nota3 + nota4 + nota5)/5\n",
    "print(f'A média das notas é {media}')"
   ]
  },
  {
   "cell_type": "markdown",
   "id": "e9295fd4",
   "metadata": {},
   "source": [
    "__3)__ A __média ponderada__ funciona de forma parecida a média aritmética, as levando em consideração o peso de cada número utilizado no cálculo. O objetivo do exercício será montar um código para o cálculo da média ponderada conforme a equação abaixo:\n",
    "\n",
    "<br>\n",
    "\n",
    "$$ \\bar{x} = \\frac{w1*P + w2*L + w3*T}{w1 + w2 + w3}$$\n",
    "\n",
    "<br>\n",
    "\n",
    "Onde $P$ é a média de 3 provas, L é a nota em relção a entrega das Listas de exercicios (onde cada lista entregue conta como 1 ponto sendo um total de 10 listas) e T é a nota do Trabalho, onde w1, w2 e w3 são os respectivos pesos. Você deve desenvolver um código onde irá receber as notas das 3 provas (e calcular a média), irá receber quantas listas o aluno entegou entre as 10 totais e receber a nota do Trabalho. Por fim para os pesos $w1 = 0.4$, $w2 = 0.1$ e $w3 = 0.5$, devolva o valor da média ponderada do aluno."
   ]
  },
  {
   "cell_type": "code",
   "execution_count": 4,
   "id": "9c20b6c4",
   "metadata": {},
   "outputs": [
    {
     "name": "stdout",
     "output_type": "stream",
     "text": [
      "Digite a nota da prova 1:8\n",
      "Digite a nota da prova 2:7.5\n",
      "Digite a nota da prova 3:6.5\n",
      "Digite a quantidade de listas feitas:8\n",
      "Digite a nota do trabalho:6.5\n",
      "A média foi de 6.983333333333333\n"
     ]
    }
   ],
   "source": [
    "prova1 = float(input(\"Digite a nota da prova 1:\"))\n",
    "prova2 = float(input(\"Digite a nota da prova 2:\"))\n",
    "prova3 = float(input(\"Digite a nota da prova 3:\"))\n",
    "\n",
    "listas = int(input(\"Digite a quantidade de listas feitas:\"))\n",
    "\n",
    "trabalho = float(input(\"Digite a nota do trabalho:\"))\n",
    "\n",
    "w1 = 0.4\n",
    "w2 = 0.1\n",
    "w3 = 0.5\n",
    "\n",
    "media_prova = (prova1 + prova2 + prova3)/3\n",
    "\n",
    "media = ((w1*media_prova) + (w2*listas) + (w3*trabalho))/(w1 + w2 + w3)\n",
    "\n",
    "print(f'A média foi de {media}')"
   ]
  },
  {
   "cell_type": "markdown",
   "id": "74dce792",
   "metadata": {},
   "source": [
    "__4)__ A distância euclideana entre dois pontos é dada pela seguinte equação:\n",
    "\n",
    "<br>\n",
    "\n",
    "$$ d = \\sqrt{(x_1 - x_2)^2 + (y_1 - y_2)^2} $$\n",
    "\n",
    "<br>\n",
    "\n",
    "Monte um código onde irá receber os valores de $x_1$, $y_1$, $x_2$ e $y_2$ em metros (podendo ser valores decimais) e retorne o valor da distância euclidiana em metros também."
   ]
  },
  {
   "cell_type": "code",
   "execution_count": null,
   "id": "371ba390",
   "metadata": {},
   "outputs": [],
   "source": [
    "x1 = float(input(\"Digite o valor de x1:\"))\n",
    "x2 = float(input(\"Digite o valor de x2:\"))\n",
    "y1 = float(input(\"Digite o valor de y1:\"))\n",
    "y2 = float(input(\"Digite o valor de y2:\"))\n",
    "\n",
    "distancia = ((x1 - x2)**2 + (y1-y2)**2)**0.5\n",
    "print(f'A distância euclidiana é {distancia} metros')"
   ]
  },
  {
   "cell_type": "markdown",
   "id": "e4a3eab3",
   "metadata": {},
   "source": [
    "__5)__ O desvio padrão é uma métrica de dispersão onde avalia o espalhamento dos dados em uma determinada distribuição. A equação para o cálculo do desvio padrão é dada por:\n",
    "\n",
    "<br>\n",
    "\n",
    "$$ \\sigma = \\sqrt{\\frac{\\Sigma_{i = 1}^n{(x_i - \\bar{x})^2}}{n - 1}}$$\n",
    "\n",
    "<br>\n",
    "\n",
    "Monte um código que receba 10 valores inteiros que variem entre 1 e 10, e retorne os valores da média e desvio padrão destes 10 valores. Para auxiliar no desenvolvimento, siga os passos a seguir:\n",
    "- Receba os 10 números inteiros;\n",
    "- Calcular a média dos múmeros;\n",
    "- Calcule as diferenças em relação a média ao quadrado;\n",
    "- Cacule a soma das diferenças;\n",
    "- Calcule o desvio padrão."
   ]
  },
  {
   "cell_type": "code",
   "execution_count": 6,
   "id": "ef1cc449",
   "metadata": {},
   "outputs": [
    {
     "name": "stdout",
     "output_type": "stream",
     "text": [
      "Digite o valor 1:1\n",
      "Digite o valor 2:4\n",
      "Digite o valor 3:6\n",
      "Digite o valor 4:8\n",
      "Digite o valor 5:10\n",
      "Digite o valor 6:12\n",
      "Digite o valor 7:14\n",
      "Digite o valor 8:16\n",
      "Digite o valor 9:18\n",
      "Digite o valor 10:20\n",
      "A media é: 10.9\n",
      "O desvio padrão é: 6.226288353960702\n"
     ]
    }
   ],
   "source": [
    "valor1 = int(input(\"Digite o valor 1:\"))\n",
    "valor2 = int(input(\"Digite o valor 2:\"))\n",
    "valor3 = int(input(\"Digite o valor 3:\"))\n",
    "valor4 = int(input(\"Digite o valor 4:\"))\n",
    "valor5 = int(input(\"Digite o valor 5:\"))\n",
    "valor6 = int(input(\"Digite o valor 6:\"))\n",
    "valor7 = int(input(\"Digite o valor 7:\"))\n",
    "valor8 = int(input(\"Digite o valor 8:\"))\n",
    "valor9 = int(input(\"Digite o valor 9:\"))\n",
    "valor10 = int(input(\"Digite o valor 10:\"))\n",
    "\n",
    "\n",
    "numero_valores = 10\n",
    "media = ((valor1 + valor2 + valor3 +valor4 + valor5 + valor6 + valor7 + valor8 + valor9 + valor10 )/numero_valores)\n",
    "somatorio = ((valor1 - media)**2 + (valor2 - media)**2 + (valor3 - media)**2 + (valor4 - media)**2 + (valor5 - media)**2 +\n",
    "                (valor6 - media)**2 + (valor7 - media)**2+ (valor8 - media)**2 + (valor9 - media)**2+ (valor10 - media)**2)\n",
    "\n",
    "desvio_padrao = ((somatorio/(numero_valores-1))**0.5)\n",
    "\n",
    "print(f'A media é: {media}')\n",
    "print(f'O desvio padrão é: {desvio_padrao}')"
   ]
  },
  {
   "cell_type": "code",
   "execution_count": null,
   "id": "260bcd35",
   "metadata": {},
   "outputs": [],
   "source": []
  }
 ],
 "metadata": {
  "kernelspec": {
   "display_name": "Python 3 (ipykernel)",
   "language": "python",
   "name": "python3"
  },
  "language_info": {
   "codemirror_mode": {
    "name": "ipython",
    "version": 3
   },
   "file_extension": ".py",
   "mimetype": "text/x-python",
   "name": "python",
   "nbconvert_exporter": "python",
   "pygments_lexer": "ipython3",
   "version": "3.9.12"
  }
 },
 "nbformat": 4,
 "nbformat_minor": 5
}
